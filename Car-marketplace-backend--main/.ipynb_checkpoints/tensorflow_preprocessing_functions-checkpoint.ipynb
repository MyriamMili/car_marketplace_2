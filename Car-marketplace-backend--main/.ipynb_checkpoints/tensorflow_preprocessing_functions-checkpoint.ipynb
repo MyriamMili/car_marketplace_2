{
 "cells": [
  {
   "cell_type": "code",
   "execution_count": null,
   "outputs": [],
   "source": [
    "!pip install mysql-connector-python"
   ],
   "metadata": {
    "collapsed": false,
    "pycharm": {
     "name": "#%%\n"
    }
   }
  },
  {
   "cell_type": "code",
   "execution_count": 11,
   "outputs": [
    {
     "name": "stdout",
     "output_type": "stream",
     "text": [
      "48.05766452766108 (94, 94)\n",
      "s0002_00825_0_0_0_0_0_01.png\n"
     ]
    },
    {
     "data": {
      "text/plain": "<Figure size 640x480 with 1 Axes>",
      "image/png": "[encoded data removed]"
     },
     "metadata": {},
     "output_type": "display_data"
    }
   ],
   "source": [
    "import requests\n",
    "import mysql.connector\n",
    "from mysql.connector import Error\n",
    "# Connect to MySQL database\n",
    "cnx = mysql.connector.connect(user='root', password='Ya3an3anter', host='127.0.0.1')\n",
    "\n",
    "# Check if a database exists\n",
    "cursor = cnx.cursor()\n",
    "cursor.execute(\"SHOW DATABASES LIKE 'conception'\")\n",
    "result = cursor.fetchone()\n",
    "\n",
    "if result:\n",
    "  print(\"The database exists.\")\n",
    "  try:\n",
    "      connection = mysql.connector.connect(host='127.0.0.1',\n",
    "                                           port='3306',\n",
    "                                           database='conception',\n",
    "                                           user='root',\n",
    "                                           password=\"Ya3an3anter\",\n",
    "                                           auth_plugin='mysql_native_password')\n",
    "      if connection.is_connected():\n",
    "          db_Info = connection.get_server_info()\n",
    "          print(\"Connected to MySQL Server version \", db_Info)\n",
    "          cursor = connection.cursor(buffered=True)\n",
    "          # cursor = connection.cursor()\n",
    "          cursor.execute(\"select database();\")\n",
    "          record = cursor.fetchone()\n",
    "          print(\"You're connected to database: \", record)\n",
    "\n",
    "  except Error as e:\n",
    "      print(\"Error while connecting to MySQL\", e)\n",
    "\n",
    "\n",
    "\n",
    "\n",
    "# Insert data into Marque table\n",
    "def insert_marque(name,id):\n",
    "    query = f\"INSERT INTO annonce_marque (name,id) VALUES ('{name}',{id})\"\n",
    "    cursor.execute(query)\n",
    "    cnx.commit()\n",
    "\n",
    "\n",
    "# Insert data into Modele table\n",
    "def insert_modele(marque_id, name):\n",
    "    query = \"INSERT INTO annonce_modele (marque_id, name) VALUES (%s, %s)\"\n",
    "    cursor.execute(query, (marque_id, name))\n",
    "    cnx.commit()\n",
    "\n",
    "\n",
    "# Insert data into Generation table\n",
    "def insert_generation(modele_id, name,id):\n",
    "    query = f\"INSERT INTO annonce_generation (modele_id, name,id) VALUES ({modele_id},'{name}',{id})\"\n",
    "    cursor.execute(query, (modele_id, name))\n",
    "    cnx.commit()"
   ],
   "metadata": {
    "collapsed": false,
    "pycharm": {
     "name": "#%%\n"
    }
   }
  },
  {
   "cell_type": "code",
   "execution_count": null,
   "outputs": [],
   "source": [
    "api_key = 'YOUR_API_KEY'\n",
    "api_url = 'https://api.api-ninjas.com/v1/cars'\n",
    "response = requests.get(api_url, headers={'X-Api-Key': api_key})\n",
    "\n",
    "if response.status_code == requests.codes.ok:\n",
    "    data = response.json()\n",
    "\n",
    "    # Extracting unique car makes from the data\n",
    "    car_makes = set(item['make'] for item in data)\n",
    "\n",
    "    print(\"List of car makes:\")\n",
    "    for make in car_makes:\n",
    "        print(make)\n",
    "else:\n",
    "    print(\"Error:\", response.status_code, response.text)\n",
    "car_makes_list={}\n",
    "i=1\n",
    "for car in car_makes:\n",
    "    car_makes_list[car]=i\n",
    "    i=i+1\n"
   ],
   "metadata": {
    "collapsed": false,
    "pycharm": {
     "name": "#%%\n"
    }
   }
  },
  {
   "cell_type": "code",
   "execution_count": null,
   "outputs": [],
   "source": [],
   "metadata": {
    "collapsed": false,
    "pycharm": {
     "name": "#%%\n"
    }
   }
  },
  {
   "cell_type": "code",
   "execution_count": null,
   "outputs": [],
   "source": [],
   "metadata": {
    "collapsed": false,
    "pycharm": {
     "name": "#%%\n"
    }
   }
  }
 ],
 "metadata": {
  "kernelspec": {
   "display_name": "Python 3",
   "language": "python",
   "name": "python3"
  },
  "language_info": {
   "codemirror_mode": {
    "name": "ipython",
    "version": 2
   },
   "file_extension": ".py",
   "mimetype": "text/x-python",
   "name": "python",
   "nbconvert_exporter": "python",
   "pygments_lexer": "ipython2",
   "version": "2.7.6"
  }
 },
 "nbformat": 4,
 "nbformat_minor": 0
}